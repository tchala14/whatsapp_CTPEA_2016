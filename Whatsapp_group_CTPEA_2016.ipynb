{
 "cells": [
  {
   "cell_type": "code",
   "execution_count": 1,
   "metadata": {},
   "outputs": [
    {
     "name": "stdout",
     "output_type": "stream",
     "text": [
      "librairies are imported\n"
     ]
    }
   ],
   "source": [
    "import pandas as pd\n",
    "import numpy as np\n",
    "import seaborn as sns\n",
    "import matplotlib as mplt\n",
    "import matplotlib.pyplot as plt\n",
    "print('librairies are imported')\n",
    "#import libraries"
   ]
  },
  {
   "cell_type": "code",
   "execution_count": 16,
   "metadata": {},
   "outputs": [
    {
     "data": {
      "text/html": [
       "<div>\n",
       "<style scoped>\n",
       "    .dataframe tbody tr th:only-of-type {\n",
       "        vertical-align: middle;\n",
       "    }\n",
       "\n",
       "    .dataframe tbody tr th {\n",
       "        vertical-align: top;\n",
       "    }\n",
       "\n",
       "    .dataframe thead th {\n",
       "        text-align: right;\n",
       "    }\n",
       "</style>\n",
       "<table border=\"1\" class=\"dataframe\">\n",
       "  <thead>\n",
       "    <tr style=\"text-align: right;\">\n",
       "      <th></th>\n",
       "      <th>Date</th>\n",
       "      <th>Time</th>\n",
       "      <th>Sender</th>\n",
       "      <th>Message</th>\n",
       "    </tr>\n",
       "  </thead>\n",
       "  <tbody>\n",
       "    <tr>\n",
       "      <th>0</th>\n",
       "      <td>[14/11/2016</td>\n",
       "      <td>18:10:48</td>\n",
       "      <td>CTPEA#2016-202. 🌚🤦🏾‍♂️</td>\n",
       "      <td>‎Les messages et les appels sont chiffrés de ...</td>\n",
       "    </tr>\n",
       "    <tr>\n",
       "      <th>1</th>\n",
       "      <td>[06/11/2017</td>\n",
       "      <td>14:24:04</td>\n",
       "      <td>Fred</td>\n",
       "      <td>Erreur nan badges menm🤦🏾‍♂</td>\n",
       "    </tr>\n",
       "    <tr>\n",
       "      <th>2</th>\n",
       "      <td>[06/11/2017</td>\n",
       "      <td>14:25:12</td>\n",
       "      <td>Fred</td>\n",
       "      <td>Premye fwa m'ap gen on badge konsa😂😬</td>\n",
       "    </tr>\n",
       "    <tr>\n",
       "      <th>3</th>\n",
       "      <td>[06/11/2017</td>\n",
       "      <td>16:36:30</td>\n",
       "      <td>Beard Organics</td>\n",
       "      <td>Anmmmmwweeeeyyyyyy!!!</td>\n",
       "    </tr>\n",
       "    <tr>\n",
       "      <th>4</th>\n",
       "      <td>[06/11/2017</td>\n",
       "      <td>16:36:54</td>\n",
       "      <td>Beard Organics</td>\n",
       "      <td>👀 Nou la? 🙆🏾‍♂️🙆🏾‍♂️</td>\n",
       "    </tr>\n",
       "  </tbody>\n",
       "</table>\n",
       "</div>"
      ],
      "text/plain": [
       "          Date      Time                   Sender  \\\n",
       "0  [14/11/2016  18:10:48   CTPEA#2016-202. 🌚🤦🏾‍♂️   \n",
       "1  [06/11/2017  14:24:04                     Fred   \n",
       "2  [06/11/2017  14:25:12                     Fred   \n",
       "3  [06/11/2017  16:36:30           Beard Organics   \n",
       "4  [06/11/2017  16:36:54           Beard Organics   \n",
       "\n",
       "                                             Message  \n",
       "0   ‎Les messages et les appels sont chiffrés de ...  \n",
       "1                         Erreur nan badges menm🤦🏾‍♂  \n",
       "2               Premye fwa m'ap gen on badge konsa😂😬  \n",
       "3                              Anmmmmwweeeeyyyyyy!!!  \n",
       "4                               👀 Nou la? 🙆🏾‍♂️🙆🏾‍♂️  "
      ]
     },
     "execution_count": 16,
     "metadata": {},
     "output_type": "execute_result"
    }
   ],
   "source": [
    "#Pou aranje personal whatsapp chat an dataframe\n",
    "data = []\n",
    "with open(\"_chat.txt\",\"r\",encoding=\"utf8\") as fp:\n",
    "\tfor index,line in enumerate(fp):\n",
    "\t\ttry:\n",
    "\t\t\tsend_time, message_section = line.strip().split(']')\n",
    "\t\t\tsender, message = message_section.split(\":\",maxsplit=1)\n",
    "\t\t\tdate,time = send_time.split( )\n",
    "\t\t\tr = {\n",
    "\t\t\t\"Date\": date,\n",
    "\t\t\t\"Time\": time,\n",
    "\t\t\t\"Sender\": sender,\n",
    "\t\t\t\"Message\": message\n",
    "\t\t\t}\n",
    "\t\t\tdata.append(r)\n",
    "\t\texcept:\n",
    "\t\t\tpass\n",
    "\n",
    "df = pd.DataFrame(data)\n",
    "df.head()"
   ]
  },
  {
   "cell_type": "code",
   "execution_count": 17,
   "metadata": {},
   "outputs": [],
   "source": [
    "#save mesaj yo nan foma CSV\n",
    "df.to_csv(\"messages_CTPEA_d2017.csv\",index=False)"
   ]
  },
  {
   "cell_type": "code",
   "execution_count": 5,
   "metadata": {},
   "outputs": [],
   "source": [
    "#fonksyon pou defini si yon liy se yon bout nan yon ansyen mesaj\n",
    "def bout_mesaj(text):\n",
    "    try:\n",
    "        datetime.datetime.strptime(text,'%m/%d%y')\n",
    "        return True\n",
    "    except Exception as e:\n",
    "        return False"
   ]
  },
  {
   "cell_type": "code",
   "execution_count": 11,
   "metadata": {},
   "outputs": [
    {
     "ename": "IndexError",
     "evalue": "list index out of range",
     "output_type": "error",
     "traceback": [
      "\u001b[1;31m---------------------------------------------------------------------------\u001b[0m",
      "\u001b[1;31mIndexError\u001b[0m                                Traceback (most recent call last)",
      "\u001b[1;32m<ipython-input-11-99fa14d9728c>\u001b[0m in \u001b[0;36m<module>\u001b[1;34m\u001b[0m\n\u001b[0;32m      5\u001b[0m             \u001b[0mlines\u001b[0m\u001b[1;33m.\u001b[0m\u001b[0mappend\u001b[0m\u001b[1;33m(\u001b[0m\u001b[0mline\u001b[0m\u001b[1;33m.\u001b[0m\u001b[0mstrip\u001b[0m\u001b[1;33m(\u001b[0m\u001b[1;34m'\\n'\u001b[0m\u001b[1;33m)\u001b[0m\u001b[1;33m)\u001b[0m\u001b[1;33m\u001b[0m\u001b[1;33m\u001b[0m\u001b[0m\n\u001b[0;32m      6\u001b[0m         \u001b[1;32melse\u001b[0m\u001b[1;33m:\u001b[0m\u001b[1;33m\u001b[0m\u001b[1;33m\u001b[0m\u001b[0m\n\u001b[1;32m----> 7\u001b[1;33m             \u001b[0mlines\u001b[0m\u001b[1;33m[\u001b[0m\u001b[0mlen\u001b[0m\u001b[1;33m(\u001b[0m\u001b[0mlines\u001b[0m\u001b[1;33m)\u001b[0m\u001b[1;33m-\u001b[0m\u001b[1;36m1\u001b[0m\u001b[1;33m]\u001b[0m\u001b[1;33m+=\u001b[0m\u001b[1;34m' '\u001b[0m\u001b[1;33m+\u001b[0m\u001b[0mline\u001b[0m\u001b[1;33m.\u001b[0m\u001b[0mstrip\u001b[0m\u001b[1;33m(\u001b[0m\u001b[1;34m'\\n'\u001b[0m\u001b[1;33m)\u001b[0m\u001b[1;33m\u001b[0m\u001b[1;33m\u001b[0m\u001b[0m\n\u001b[0m",
      "\u001b[1;31mIndexError\u001b[0m: list index out of range"
     ]
    }
   ],
   "source": [
    "lines=[]\n",
    "with open('_chat.txt',encoding=\"utf8\") as f:\n",
    "    for line in f:\n",
    "        if bout_mesaj(line.split(',')[0]):\n",
    "            lines.append(line.strip('\\n'))\n",
    "        else:\n",
    "            lines[len(lines)-1]+=' '+line.strip('\\n')"
   ]
  },
  {
   "cell_type": "code",
   "execution_count": null,
   "metadata": {},
   "outputs": [],
   "source": []
  },
  {
   "cell_type": "code",
   "execution_count": 14,
   "metadata": {},
   "outputs": [
    {
     "ename": "NameError",
     "evalue": "name 'a' is not defined",
     "output_type": "error",
     "traceback": [
      "\u001b[1;31m---------------------------------------------------------------------------\u001b[0m",
      "\u001b[1;31mNameError\u001b[0m                                 Traceback (most recent call last)",
      "\u001b[1;32m<ipython-input-14-3f786850e387>\u001b[0m in \u001b[0;36m<module>\u001b[1;34m\u001b[0m\n\u001b[1;32m----> 1\u001b[1;33m \u001b[0ma\u001b[0m\u001b[1;33m\u001b[0m\u001b[1;33m\u001b[0m\u001b[0m\n\u001b[0m",
      "\u001b[1;31mNameError\u001b[0m: name 'a' is not defined"
     ]
    }
   ],
   "source": []
  },
  {
   "cell_type": "code",
   "execution_count": null,
   "metadata": {},
   "outputs": [],
   "source": []
  }
 ],
 "metadata": {
  "kernelspec": {
   "display_name": "Python 3",
   "language": "python",
   "name": "python3"
  },
  "language_info": {
   "codemirror_mode": {
    "name": "ipython",
    "version": 3
   },
   "file_extension": ".py",
   "mimetype": "text/x-python",
   "name": "python",
   "nbconvert_exporter": "python",
   "pygments_lexer": "ipython3",
   "version": "3.7.6"
  }
 },
 "nbformat": 4,
 "nbformat_minor": 4
}
